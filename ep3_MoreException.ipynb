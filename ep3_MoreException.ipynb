{
 "cells": [
  {
   "cell_type": "code",
   "execution_count": 1,
   "metadata": {},
   "outputs": [
    {
     "name": "stdout",
     "output_type": "stream",
     "text": [
      "โปรแกรมมีข้อผิดพลาด\n"
     ]
    }
   ],
   "source": [
    "try:\n",
    "    number1 = int(input(\"ป้อนตัวเลข 1 : \"))\n",
    "    number2 = int(input(\"ป้อนตัวเลข 2 : \"))\n",
    "    result = number1 / number2\n",
    "    print(result)\n",
    "except:\n",
    "    print(\"โปรแกรมมีข้อผิดพลาด\")"
   ]
  },
  {
   "cell_type": "code",
   "execution_count": 6,
   "metadata": {},
   "outputs": [
    {
     "ename": "ZeroDivisionError",
     "evalue": "division by zero",
     "output_type": "error",
     "traceback": [
      "\u001b[1;31m---------------------------------------------------------------------------\u001b[0m",
      "\u001b[1;31mZeroDivisionError\u001b[0m                         Traceback (most recent call last)",
      "Cell \u001b[1;32mIn[6], line 3\u001b[0m\n\u001b[0;32m      1\u001b[0m number1 \u001b[39m=\u001b[39m \u001b[39mint\u001b[39m(\u001b[39minput\u001b[39m(\u001b[39m\"\u001b[39m\u001b[39mป้อนตัวเลข 1 : \u001b[39m\u001b[39m\"\u001b[39m))\n\u001b[0;32m      2\u001b[0m number2 \u001b[39m=\u001b[39m \u001b[39mint\u001b[39m(\u001b[39minput\u001b[39m(\u001b[39m\"\u001b[39m\u001b[39mป้อนตัวเลข 2 : \u001b[39m\u001b[39m\"\u001b[39m))\n\u001b[1;32m----> 3\u001b[0m result \u001b[39m=\u001b[39m number1 \u001b[39m/\u001b[39;49m number2\n\u001b[0;32m      4\u001b[0m \u001b[39mprint\u001b[39m(result)\n",
      "\u001b[1;31mZeroDivisionError\u001b[0m: division by zero"
     ]
    }
   ],
   "source": [
    "number1 = int(input(\"ป้อนตัวเลข 1 : \"))\n",
    "number2 = int(input(\"ป้อนตัวเลข 2 : \"))\n",
    "result = number1 / number2\n",
    "print(result)"
   ]
  },
  {
   "cell_type": "code",
   "execution_count": 7,
   "metadata": {},
   "outputs": [
    {
     "name": "stdout",
     "output_type": "stream",
     "text": [
      "ต้องป้อนตัวเลขเท่านั้นถึงจะหารได้\n"
     ]
    }
   ],
   "source": [
    "# ValueError => ค่าผิดพลาด\n",
    "# zeroDivisionError\n",
    "try:\n",
    "    number1 = int(input(\"ป้อนตัวเลข 1 : \"))\n",
    "    number2 = int(input(\"ป้อนตัวเลข 2 : \"))\n",
    "    result = number1 / number2\n",
    "    print(result)\n",
    "except ValueError:\n",
    "    print(\"ต้องป้อนตัวเลขเท่านั้นถึงจะหารได้\")\n",
    "except ZeroDivisionError:\n",
    "    print(\"ห้ามหารด้วยตัวเลข 0 นะ\")"
   ]
  },
  {
   "cell_type": "code",
   "execution_count": 10,
   "metadata": {},
   "outputs": [
    {
     "name": "stdout",
     "output_type": "stream",
     "text": [
      "ชนิดข้อมูลไม่ตรงกัน\n"
     ]
    }
   ],
   "source": [
    "# ValueError => ค่าผิดพลาด\n",
    "# zeroDivisionError\n",
    "try:\n",
    "    # number1 = int(input(\"ป้อนตัวเลข 1 : \"))\n",
    "    # number2 = int(input(\"ป้อนตัวเลข 2 : \"))\n",
    "    # result = number1 / number2\n",
    "    # print(result)\n",
    "    score = 100+\"50\"\n",
    "    print(score)\n",
    "except ValueError:\n",
    "    print(\"ต้องป้อนตัวเลขเท่านั้นถึงจะหารได้\")\n",
    "except ZeroDivisionError:\n",
    "    print(\"ห้ามหารด้วยตัวเลข 0 นะ\")\n",
    "except TypeError:\n",
    "    print(\"ชนิดข้อมูลไม่ตรงกัน\")"
   ]
  },
  {
   "cell_type": "code",
   "execution_count": 11,
   "metadata": {},
   "outputs": [],
   "source": [
    "### กรณีให้มันรันผ่านไปก่อน\n",
    "# ValueError => ค่าผิดพลาด\n",
    "# zeroDivisionError\n",
    "try:\n",
    "    # number1 = int(input(\"ป้อนตัวเลข 1 : \"))\n",
    "    # number2 = int(input(\"ป้อนตัวเลข 2 : \"))\n",
    "    # result = number1 / number2\n",
    "    # print(result)\n",
    "    score = 100+\"50\"\n",
    "    print(score)\n",
    "except ValueError:\n",
    "    pass\n",
    "except ZeroDivisionError:\n",
    "    pass\n",
    "except TypeError:\n",
    "    pass"
   ]
  },
  {
   "cell_type": "code",
   "execution_count": 14,
   "metadata": {},
   "outputs": [
    {
     "name": "stdout",
     "output_type": "stream",
     "text": [
      "division by zero\n"
     ]
    }
   ],
   "source": [
    "# ValueError => ค่าผิดพลาด\n",
    "# zeroDivisionError\n",
    "try:\n",
    "    number1 = int(input(\"ป้อนตัวเลข 1 : \"))\n",
    "    number2 = int(input(\"ป้อนตัวเลข 2 : \"))\n",
    "    result = number1 / number2\n",
    "    print(result)\n",
    "except Exception as error:\n",
    "    print(error)\n"
   ]
  }
 ],
 "metadata": {
  "kernelspec": {
   "display_name": "Python 3",
   "language": "python",
   "name": "python3"
  },
  "language_info": {
   "codemirror_mode": {
    "name": "ipython",
    "version": 3
   },
   "file_extension": ".py",
   "mimetype": "text/x-python",
   "name": "python",
   "nbconvert_exporter": "python",
   "pygments_lexer": "ipython3",
   "version": "3.9.13"
  },
  "orig_nbformat": 4
 },
 "nbformat": 4,
 "nbformat_minor": 2
}
