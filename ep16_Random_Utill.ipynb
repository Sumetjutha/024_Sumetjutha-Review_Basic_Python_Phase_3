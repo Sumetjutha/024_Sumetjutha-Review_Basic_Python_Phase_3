{
 "cells": [
  {
   "cell_type": "code",
   "execution_count": 1,
   "metadata": {},
   "outputs": [],
   "source": [
    "### Random Utility\n",
    "import random"
   ]
  },
  {
   "cell_type": "code",
   "execution_count": 2,
   "metadata": {},
   "outputs": [
    {
     "name": "stdout",
     "output_type": "stream",
     "text": [
      "0.4858717024341611\n"
     ]
    }
   ],
   "source": [
    "x = random.random() # สุ่มจาก 0.0-1.0\n",
    "print(x)"
   ]
  },
  {
   "cell_type": "code",
   "execution_count": 7,
   "metadata": {},
   "outputs": [
    {
     "name": "stdout",
     "output_type": "stream",
     "text": [
      "0.47233404967491543\n",
      "0.5266903195479199\n",
      "0.7368544419901351\n",
      "0.7460616232727008\n",
      "0.9421386819145474\n",
      "0.5286814258977346\n",
      "0.22851018738441564\n",
      "0.9446160530303316\n",
      "0.4797434203574733\n",
      "0.8301867852053203\n",
      "0.706835254904983\n",
      "0.5874511630783106\n"
     ]
    }
   ],
   "source": [
    "### สุ่มไป 12 รอบ\n",
    "for i in range(12):\n",
    "    x = random.random() # สุ่มจาก 0.0-1.0\n",
    "    print(x)"
   ]
  },
  {
   "cell_type": "code",
   "execution_count": null,
   "metadata": {},
   "outputs": [],
   "source": []
  }
 ],
 "metadata": {
  "kernelspec": {
   "display_name": "Python 3",
   "language": "python",
   "name": "python3"
  },
  "language_info": {
   "codemirror_mode": {
    "name": "ipython",
    "version": 3
   },
   "file_extension": ".py",
   "mimetype": "text/x-python",
   "name": "python",
   "nbconvert_exporter": "python",
   "pygments_lexer": "ipython3",
   "version": "3.9.13"
  },
  "orig_nbformat": 4
 },
 "nbformat": 4,
 "nbformat_minor": 2
}
