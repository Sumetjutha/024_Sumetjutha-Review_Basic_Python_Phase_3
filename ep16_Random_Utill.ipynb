{
 "cells": [
  {
   "cell_type": "code",
   "execution_count": 1,
   "metadata": {},
   "outputs": [],
   "source": [
    "### Random Utility\n",
    "import random"
   ]
  },
  {
   "cell_type": "code",
   "execution_count": 2,
   "metadata": {},
   "outputs": [
    {
     "name": "stdout",
     "output_type": "stream",
     "text": [
      "0.4858717024341611\n"
     ]
    }
   ],
   "source": [
    "x = random.random() # สุ่มจาก 0.0-1.0\n",
    "print(x)"
   ]
  },
  {
   "cell_type": "code",
   "execution_count": 7,
   "metadata": {},
   "outputs": [
    {
     "name": "stdout",
     "output_type": "stream",
     "text": [
      "0.47233404967491543\n",
      "0.5266903195479199\n",
      "0.7368544419901351\n",
      "0.7460616232727008\n",
      "0.9421386819145474\n",
      "0.5286814258977346\n",
      "0.22851018738441564\n",
      "0.9446160530303316\n",
      "0.4797434203574733\n",
      "0.8301867852053203\n",
      "0.706835254904983\n",
      "0.5874511630783106\n"
     ]
    }
   ],
   "source": [
    "### สุ่มไป 12 รอบ\n",
    "for i in range(12):\n",
    "    x = random.random() # สุ่มจาก 0.0-1.0\n",
    "    print(x)"
   ]
  },
  {
   "cell_type": "code",
   "execution_count": 8,
   "metadata": {},
   "outputs": [
    {
     "name": "stdout",
     "output_type": "stream",
     "text": [
      "6.163626240831299\n",
      "9.135546775998856\n",
      "8.95259381997895\n",
      "5.6766668148098995\n",
      "8.38104920517608\n",
      "6.374995546955205\n",
      "6.75633332408221\n",
      "9.693378739821725\n",
      "6.112005645994898\n",
      "7.149586390192648\n",
      "9.38724991890955\n",
      "8.680026766601378\n"
     ]
    }
   ],
   "source": [
    "### สุ่มแบบกำหนดช่วง\n",
    "for i in range(12):\n",
    "    x = random.uniform(5,10) # สุ่มจาก 5.0 - 10.0\n",
    "    print(x)"
   ]
  }
 ],
 "metadata": {
  "kernelspec": {
   "display_name": "Python 3",
   "language": "python",
   "name": "python3"
  },
  "language_info": {
   "codemirror_mode": {
    "name": "ipython",
    "version": 3
   },
   "file_extension": ".py",
   "mimetype": "text/x-python",
   "name": "python",
   "nbconvert_exporter": "python",
   "pygments_lexer": "ipython3",
   "version": "3.9.13"
  },
  "orig_nbformat": 4
 },
 "nbformat": 4,
 "nbformat_minor": 2
}
