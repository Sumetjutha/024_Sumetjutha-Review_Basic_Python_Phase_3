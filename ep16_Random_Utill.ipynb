{
 "cells": [
  {
   "cell_type": "code",
   "execution_count": 1,
   "metadata": {},
   "outputs": [],
   "source": [
    "### Random Utility\n",
    "import random"
   ]
  },
  {
   "cell_type": "code",
   "execution_count": 2,
   "metadata": {},
   "outputs": [
    {
     "name": "stdout",
     "output_type": "stream",
     "text": [
      "0.4858717024341611\n"
     ]
    }
   ],
   "source": [
    "x = random.random() # สุ่มจาก 0.0-1.0\n",
    "print(x)"
   ]
  },
  {
   "cell_type": "code",
   "execution_count": 7,
   "metadata": {},
   "outputs": [
    {
     "name": "stdout",
     "output_type": "stream",
     "text": [
      "0.47233404967491543\n",
      "0.5266903195479199\n",
      "0.7368544419901351\n",
      "0.7460616232727008\n",
      "0.9421386819145474\n",
      "0.5286814258977346\n",
      "0.22851018738441564\n",
      "0.9446160530303316\n",
      "0.4797434203574733\n",
      "0.8301867852053203\n",
      "0.706835254904983\n",
      "0.5874511630783106\n"
     ]
    }
   ],
   "source": [
    "### สุ่มไป 12 รอบ\n",
    "for i in range(12):\n",
    "    x = random.random() # สุ่มจาก 0.0-1.0\n",
    "    print(x)"
   ]
  },
  {
   "cell_type": "code",
   "execution_count": 8,
   "metadata": {},
   "outputs": [
    {
     "name": "stdout",
     "output_type": "stream",
     "text": [
      "6.163626240831299\n",
      "9.135546775998856\n",
      "8.95259381997895\n",
      "5.6766668148098995\n",
      "8.38104920517608\n",
      "6.374995546955205\n",
      "6.75633332408221\n",
      "9.693378739821725\n",
      "6.112005645994898\n",
      "7.149586390192648\n",
      "9.38724991890955\n",
      "8.680026766601378\n"
     ]
    }
   ],
   "source": [
    "### สุ่มแบบกำหนดช่วง\n",
    "for i in range(12):\n",
    "    x = random.uniform(5,10) # สุ่มจาก 5.0 - 10.0\n",
    "    print(x)"
   ]
  },
  {
   "cell_type": "code",
   "execution_count": 9,
   "metadata": {},
   "outputs": [
    {
     "name": "stdout",
     "output_type": "stream",
     "text": [
      "123.67164473957055\n",
      "118.83503859066602\n",
      "141.15436022990448\n",
      "149.92665080987277\n",
      "139.07650254565675\n",
      "126.60443698757751\n",
      "133.77218349108756\n",
      "141.81982489429123\n",
      "117.53844974314973\n",
      "127.40550832762312\n",
      "139.26454462467623\n",
      "142.10349105620597\n"
     ]
    }
   ],
   "source": [
    "### สุ่มแบบกำหนดช่วง\n",
    "for i in range(12):\n",
    "    x = random.uniform(100,150) # สุ่มจาก 5.0 - 10.0\n",
    "    print(x)"
   ]
  },
  {
   "cell_type": "code",
   "execution_count": 10,
   "metadata": {},
   "outputs": [
    {
     "name": "stdout",
     "output_type": "stream",
     "text": [
      "89.31155985264292\n",
      "7.626042576236841\n",
      "116.3691077339177\n",
      "94.14875430620708\n",
      "-52.70765352362397\n",
      "88.17519170195104\n",
      "83.04106005517576\n",
      "-76.30974021144063\n",
      "-43.25154827504165\n",
      "-9.993468671167264\n",
      "1.1988847088405805\n",
      "79.79788362832082\n"
     ]
    }
   ],
   "source": [
    "### สุ่มแบบกำหนดช่วง\n",
    "for i in range(12):\n",
    "    x = random.uniform(-100,150) # สุ่มจาก 5.0 - 10.0\n",
    "    print(x)"
   ]
  },
  {
   "cell_type": "code",
   "execution_count": 36,
   "metadata": {},
   "outputs": [
    {
     "name": "stdout",
     "output_type": "stream",
     "text": [
      "49\n",
      "3\n",
      "3\n",
      "37\n",
      "17\n",
      "9\n",
      "33\n",
      "45\n",
      "31\n",
      "11\n",
      "43\n",
      "43\n"
     ]
    }
   ],
   "source": [
    "### ระบุสเต็ปได้ ใช้ random ร้วมกับ range\n",
    "for i in range(12):\n",
    "    x = random.randrange(1, 50, 2) # random.randrange(start,stop,step)\n",
    "    print(x)"
   ]
  },
  {
   "cell_type": "code",
   "execution_count": 61,
   "metadata": {},
   "outputs": [
    {
     "name": "stdout",
     "output_type": "stream",
     "text": [
      "1\n",
      "5\n",
      "4\n",
      "2\n",
      "1\n",
      "1\n",
      "3\n",
      "3\n",
      "4\n",
      "5\n",
      "3\n",
      "3\n"
     ]
    }
   ],
   "source": [
    "### ระบุสเต็ปได้ ใช้ random ร้วมกับ range\n",
    "for i in range(12):\n",
    "    x = random.randrange(1, 6) # random.randrange(start,stop,step)\n",
    "    print(x)"
   ]
  },
  {
   "cell_type": "code",
   "execution_count": 62,
   "metadata": {},
   "outputs": [
    {
     "name": "stdout",
     "output_type": "stream",
     "text": [
      "2\n",
      "A\n",
      "1\n",
      "5\n",
      "A\n",
      "C\n",
      "B\n",
      "4\n",
      "2\n",
      "5\n",
      "4\n",
      "C\n",
      "B\n",
      "3\n",
      "4\n"
     ]
    }
   ],
   "source": [
    "item = [1,2,3,4,5,\"A\",\"B\",\"C\"]\n",
    "for i in range(15):\n",
    "    x = random.choice(item)\n",
    "    print(x)\n"
   ]
  },
  {
   "cell_type": "code",
   "execution_count": 64,
   "metadata": {},
   "outputs": [
    {
     "name": "stdout",
     "output_type": "stream",
     "text": [
      "['C', 'A', 1, 2, 3, 'B', 5, 4]\n",
      "[5, 4, 3, 'C', 'B', 'A', 1, 2]\n",
      "[4, 'C', 3, 'B', 1, 'A', 2, 5]\n",
      "[1, 2, 3, 5, 'B', 'A', 4, 'C']\n",
      "[3, 'A', 4, 1, 'B', 5, 'C', 2]\n",
      "[1, 4, 2, 5, 'C', 3, 'B', 'A']\n",
      "[5, 'A', 4, 3, 'B', 1, 'C', 2]\n",
      "['A', 'C', 1, 4, 3, 2, 'B', 5]\n",
      "[3, 4, 1, 'C', 5, 'A', 'B', 2]\n",
      "[5, 'A', 1, 2, 'C', 4, 3, 'B']\n",
      "[3, 'A', 'C', 4, 5, 1, 'B', 2]\n",
      "[4, 'A', 'C', 5, 1, 'B', 3, 2]\n",
      "[3, 'C', 4, 1, 'A', 'B', 5, 2]\n",
      "[4, 1, 3, 2, 'B', 'C', 'A', 5]\n",
      "[3, 'C', 'B', 1, 4, 5, 'A', 2]\n"
     ]
    }
   ],
   "source": [
    "### สลับข้อมูล ภายใน list\n",
    "item = [1,2,3,4,5,\"A\",\"B\",\"C\"]\n",
    "for i in range(15):\n",
    "    x = random.shuffle(item)\n",
    "    print(item)"
   ]
  },
  {
   "cell_type": "code",
   "execution_count": 70,
   "metadata": {},
   "outputs": [
    {
     "name": "stdout",
     "output_type": "stream",
     "text": [
      "['C', 'A', 4, 3, 2, 1, 5, 'B']\n"
     ]
    }
   ],
   "source": [
    "item = [1,2,3,4,5,\"A\",\"B\",\"C\"]\n",
    "random.shuffle(item)\n",
    "print(item)"
   ]
  }
 ],
 "metadata": {
  "kernelspec": {
   "display_name": "Python 3",
   "language": "python",
   "name": "python3"
  },
  "language_info": {
   "codemirror_mode": {
    "name": "ipython",
    "version": 3
   },
   "file_extension": ".py",
   "mimetype": "text/x-python",
   "name": "python",
   "nbconvert_exporter": "python",
   "pygments_lexer": "ipython3",
   "version": "3.9.13"
  },
  "orig_nbformat": 4
 },
 "nbformat": 4,
 "nbformat_minor": 2
}
