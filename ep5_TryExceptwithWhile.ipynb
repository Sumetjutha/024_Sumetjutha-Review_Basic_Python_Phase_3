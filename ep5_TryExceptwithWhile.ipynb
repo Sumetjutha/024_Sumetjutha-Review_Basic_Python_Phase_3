{
 "cells": [
  {
   "cell_type": "code",
   "execution_count": 1,
   "metadata": {},
   "outputs": [
    {
     "name": "stdout",
     "output_type": "stream",
     "text": [
      "invalid literal for int() with base 10: 'we'\n",
      "ทำงานต่อไป...\n"
     ]
    }
   ],
   "source": [
    "try:\n",
    "    number1 = int(input(\"ป้อนตัวเลข 1 : \"))\n",
    "    number2 = int(input(\"ป้อนตัวเลข 2 : \"))\n",
    "    result = number1 / number2\n",
    "    print(result)\n",
    "    print(\"โอนเงิน\")\n",
    "except Exception as error:\n",
    "    print(error)\n",
    "finally :\n",
    "    print(\"ทำงานต่อไป...\")"
   ]
  },
  {
   "cell_type": "code",
   "execution_count": 1,
   "metadata": {},
   "outputs": [
    {
     "name": "stdout",
     "output_type": "stream",
     "text": [
      "invalid literal for int() with base 10: 'w'\n",
      "ทำงานต่อไป...\n",
      "4.0\n",
      "โอนเงิน\n",
      "ทำงานต่อไป...\n",
      "ทำงานต่อไป...\n"
     ]
    }
   ],
   "source": [
    "while True:\n",
    "    try:\n",
    "        number1 = int(input(\"ป้อนตัวเลข 1 : \"))\n",
    "        number2 = int(input(\"ป้อนตัวเลข 2 : \"))\n",
    "        if number1 == 0 and number2 == 0:\n",
    "            break\n",
    "        result = number1 / number2\n",
    "        print(result)\n",
    "    except Exception as error:\n",
    "        print(error)\n",
    "    finally :\n",
    "        print(\"ทำงานต่อไป...\")"
   ]
  },
  {
   "cell_type": "code",
   "execution_count": 3,
   "metadata": {},
   "outputs": [
    {
     "name": "stdout",
     "output_type": "stream",
     "text": [
      "5.0\n",
      "ทำงานต่อไป...\n",
      "ห้ามหารด้วย 0 นะครับ\n",
      "ทำงานต่อไป...\n",
      "กรุณาป้อนตัวเลขด้วยครับ\n",
      "ทำงานต่อไป...\n",
      "ทำงานต่อไป...\n"
     ]
    }
   ],
   "source": [
    "while True:\n",
    "    try:\n",
    "        number1 = int(input(\"ป้อนตัวเลข 1 : \"))\n",
    "        number2 = int(input(\"ป้อนตัวเลข 2 : \"))\n",
    "        if number1 == 0 and number2 == 0:\n",
    "            break\n",
    "        result = number1 / number2\n",
    "        print(result)\n",
    "    except ValueError:\n",
    "        print(\"กรุณาป้อนตัวเลขด้วยครับ\")\n",
    "    except ZeroDivisionError:\n",
    "        print(\"ห้ามหารด้วย 0 นะครับ\")\n",
    "    finally :\n",
    "        print(\"ทำงานต่อไป...\")"
   ]
  }
 ],
 "metadata": {
  "kernelspec": {
   "display_name": "Python 3",
   "language": "python",
   "name": "python3"
  },
  "language_info": {
   "codemirror_mode": {
    "name": "ipython",
    "version": 3
   },
   "file_extension": ".py",
   "mimetype": "text/x-python",
   "name": "python",
   "nbconvert_exporter": "python",
   "pygments_lexer": "ipython3",
   "version": "3.9.13"
  },
  "orig_nbformat": 4
 },
 "nbformat": 4,
 "nbformat_minor": 2
}
