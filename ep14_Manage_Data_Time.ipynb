{
 "cells": [
  {
   "cell_type": "code",
   "execution_count": 2,
   "metadata": {},
   "outputs": [],
   "source": [
    "# Utility Module อันที่ 1\n",
    "## Module สำหรับจัดการวันและเวลา\n",
    "import datetime"
   ]
  },
  {
   "cell_type": "code",
   "execution_count": 4,
   "metadata": {},
   "outputs": [],
   "source": [
    "result = datetime.datetime.now()"
   ]
  },
  {
   "cell_type": "code",
   "execution_count": 5,
   "metadata": {},
   "outputs": [
    {
     "name": "stdout",
     "output_type": "stream",
     "text": [
      "2023-06-10 01:24:44.776265\n"
     ]
    }
   ],
   "source": [
    "print(result)"
   ]
  },
  {
   "cell_type": "code",
   "execution_count": 6,
   "metadata": {},
   "outputs": [
    {
     "name": "stdout",
     "output_type": "stream",
     "text": [
      "2023\n"
     ]
    }
   ],
   "source": [
    "print(result.year)"
   ]
  },
  {
   "cell_type": "code",
   "execution_count": 7,
   "metadata": {},
   "outputs": [
    {
     "name": "stdout",
     "output_type": "stream",
     "text": [
      "6\n"
     ]
    }
   ],
   "source": [
    "print(result.month)"
   ]
  },
  {
   "cell_type": "code",
   "execution_count": 9,
   "metadata": {},
   "outputs": [
    {
     "name": "stdout",
     "output_type": "stream",
     "text": [
      "10\n"
     ]
    }
   ],
   "source": [
    "print(result.day)"
   ]
  },
  {
   "cell_type": "code",
   "execution_count": 13,
   "metadata": {},
   "outputs": [],
   "source": [
    "newdate = datetime.datetime(2023,6,10,1,31)"
   ]
  },
  {
   "cell_type": "code",
   "execution_count": 14,
   "metadata": {},
   "outputs": [
    {
     "name": "stdout",
     "output_type": "stream",
     "text": [
      "2023-06-10 01:31:00\n"
     ]
    }
   ],
   "source": [
    "print(newdate)"
   ]
  },
  {
   "cell_type": "code",
   "execution_count": 19,
   "metadata": {},
   "outputs": [
    {
     "name": "stdout",
     "output_type": "stream",
     "text": [
      "เริ่มต้น =  2023-06-10 01:24:44.776265\n",
      "06/10/23\n",
      "01:24:44\n",
      "Sat Jun 10 01:24:44 2023\n"
     ]
    }
   ],
   "source": [
    "# จัดรูปแบบการแสดงผล\n",
    "print(\"เริ่มต้น = \",result)\n",
    "x = result.strftime(\"%x\")\n",
    "print(x) # m/d/y \n",
    "print(result.strftime(\"%X\")) # เวลา time\n",
    "print(result.strftime(\"%c\")) # ชื่ิอวัน เดือน วันที่ เวลา ปี"
   ]
  },
  {
   "cell_type": "code",
   "execution_count": 25,
   "metadata": {},
   "outputs": [
    {
     "name": "stdout",
     "output_type": "stream",
     "text": [
      "01\n",
      "24\n",
      "01:24:44\n",
      "01:24:44 AM\n"
     ]
    }
   ],
   "source": [
    "print(result.strftime(\"%H\")) # เวลา ชั่วโมง\n",
    "print(result.strftime(\"%M\")) # เวลา นาที\n",
    "print(result.strftime(\"%H:%M:%S\"))\n",
    "print(result.strftime(\"%H:%M:%S %p\"))"
   ]
  },
  {
   "cell_type": "code",
   "execution_count": 29,
   "metadata": {},
   "outputs": [
    {
     "name": "stdout",
     "output_type": "stream",
     "text": [
      "161\n",
      "Sat\n",
      "Saturday\n",
      "6\n"
     ]
    }
   ],
   "source": [
    "print(result.strftime(\"%j\")) # วันที่เท่าไหร่ของปี\n",
    "print(result.strftime(\"%a\")) # บอกว่าเป็นวันที่เท่าไหร่ แบบสั้น\n",
    "print(result.strftime(\"%A\")) # บอกว่าเป็นวันที่เท่าไหร่ แบบเต็มวัน\n",
    "print(result.strftime(\"%w\")) # บอกว่าเป็นวันลำดับที่เท่าไหร่"
   ]
  },
  {
   "cell_type": "code",
   "execution_count": 33,
   "metadata": {},
   "outputs": [
    {
     "name": "stdout",
     "output_type": "stream",
     "text": [
      "10\n",
      "Jun\n",
      "June\n"
     ]
    }
   ],
   "source": [
    "### เรื่องของวันที่\n",
    "print(result.strftime(\"%d\")) # เป็นวันที่\n",
    "print(result.strftime(\"%b\")) # เดือนแบบสั้น\n",
    "print(result.strftime(\"%B\")) # เดือนแบบเต็ม"
   ]
  },
  {
   "cell_type": "code",
   "execution_count": 43,
   "metadata": {},
   "outputs": [
    {
     "name": "stdout",
     "output_type": "stream",
     "text": [
      "10 Saturday June 2023\n"
     ]
    }
   ],
   "source": [
    "print(result.strftime(\"%d %A %B %Y\"))"
   ]
  },
  {
   "cell_type": "code",
   "execution_count": 44,
   "metadata": {},
   "outputs": [
    {
     "name": "stdout",
     "output_type": "stream",
     "text": [
      "10 / 06 / 2023\n"
     ]
    }
   ],
   "source": [
    "# ปรับให้เป็น วันเดือนปี\n",
    "print(result.strftime(\"%d / %m / %Y\")) # เลขเดือนต้องเป็น m ตัวเล็ก"
   ]
  }
 ],
 "metadata": {
  "kernelspec": {
   "display_name": "Python 3",
   "language": "python",
   "name": "python3"
  },
  "language_info": {
   "codemirror_mode": {
    "name": "ipython",
    "version": 3
   },
   "file_extension": ".py",
   "mimetype": "text/x-python",
   "name": "python",
   "nbconvert_exporter": "python",
   "pygments_lexer": "ipython3",
   "version": "3.9.13"
  },
  "orig_nbformat": 4
 },
 "nbformat": 4,
 "nbformat_minor": 2
}
