{
 "cells": [
  {
   "cell_type": "code",
   "execution_count": 1,
   "metadata": {},
   "outputs": [],
   "source": [
    "# โปรแกรมบัญชีธนาคาร\n",
    "\n",
    "# data\n",
    "account = {\"A\":5000,\"B\":0}"
   ]
  },
  {
   "cell_type": "code",
   "execution_count": 8,
   "metadata": {},
   "outputs": [],
   "source": [
    "def getBalance():\n",
    "    print(\"ยอดเงินคงเหลือในบัญชี :\",account)"
   ]
  },
  {
   "cell_type": "code",
   "execution_count": 9,
   "metadata": {},
   "outputs": [
    {
     "name": "stdout",
     "output_type": "stream",
     "text": [
      "ยอดเงินคงเหลือในบัญชี : {'A': 5000, 'B': 0}\n"
     ]
    }
   ],
   "source": [
    "getBalance()"
   ]
  },
  {
   "cell_type": "code",
   "execution_count": 10,
   "metadata": {},
   "outputs": [],
   "source": [
    "def deposit(money):\n",
    "    print(\"ฝากเงินเข้าบัญชี A :\",money)\n",
    "    account[\"A\"] += money"
   ]
  },
  {
   "cell_type": "code",
   "execution_count": 11,
   "metadata": {},
   "outputs": [
    {
     "name": "stdout",
     "output_type": "stream",
     "text": [
      "ฝากเงินเข้าบัญชี A : 500\n"
     ]
    }
   ],
   "source": [
    "deposit(500)"
   ]
  },
  {
   "cell_type": "code",
   "execution_count": 12,
   "metadata": {},
   "outputs": [
    {
     "name": "stdout",
     "output_type": "stream",
     "text": [
      "ยอดเงินคงเหลือในบัญชี : {'A': 5500, 'B': 0}\n"
     ]
    }
   ],
   "source": [
    "getBalance()"
   ]
  },
  {
   "cell_type": "code",
   "execution_count": 13,
   "metadata": {},
   "outputs": [],
   "source": [
    "def withdraw(money):\n",
    "    print(\"ถอนเงินจากบัญชี A: \",money)\n",
    "    account[\"A\"] -= money"
   ]
  },
  {
   "cell_type": "code",
   "execution_count": 14,
   "metadata": {},
   "outputs": [
    {
     "name": "stdout",
     "output_type": "stream",
     "text": [
      "ถอนเงินจากบัญชี A:  400\n"
     ]
    }
   ],
   "source": [
    "withdraw(400)"
   ]
  },
  {
   "cell_type": "code",
   "execution_count": 15,
   "metadata": {},
   "outputs": [
    {
     "name": "stdout",
     "output_type": "stream",
     "text": [
      "ยอดเงินคงเหลือในบัญชี : {'A': 5100, 'B': 0}\n"
     ]
    }
   ],
   "source": [
    "getBalance()"
   ]
  },
  {
   "cell_type": "code",
   "execution_count": 19,
   "metadata": {},
   "outputs": [],
   "source": [
    "def transfer(money):\n",
    "    print(\"ทำงานโอนเงินไปที่บัญชี B :\",money)\n",
    "    account[\"B\"] += money\n",
    "    account[\"A\"] -= money"
   ]
  },
  {
   "cell_type": "code",
   "execution_count": 20,
   "metadata": {},
   "outputs": [
    {
     "name": "stdout",
     "output_type": "stream",
     "text": [
      "ทำงานโอนเงินไปที่บัญชี B : 500\n"
     ]
    }
   ],
   "source": [
    "transfer(500)"
   ]
  },
  {
   "cell_type": "code",
   "execution_count": 21,
   "metadata": {},
   "outputs": [
    {
     "name": "stdout",
     "output_type": "stream",
     "text": [
      "ยอดเงินคงเหลือในบัญชี : {'A': 4600, 'B': 1000}\n"
     ]
    }
   ],
   "source": [
    "getBalance()"
   ]
  },
  {
   "cell_type": "code",
   "execution_count": 50,
   "metadata": {},
   "outputs": [
    {
     "name": "stdout",
     "output_type": "stream",
     "text": [
      "ยอดเงินคงเหลือในบัญชี : {'A': 5000, 'B': 0}\n",
      "ฝากเงินเข้าบัญชี A : 3000\n",
      "ยอดเงินคงเหลือในบัญชี : {'A': 8000, 'B': 0}\n",
      "ถอนเงินจากบัญชี A:  6000\n",
      "ยอดเงินคงเหลือในบัญชี : {'A': 2000, 'B': 0}\n",
      "ถอนเงินจากบัญชี A:  150\n",
      "โอนเงินไปที่บัญชี B : 150\n",
      "ยอดเงินคงเหลือในบัญชี : {'A': 1850, 'B': 150}\n",
      "ถอนเงินจากบัญชี A:  50.5\n",
      "โอนเงินไปที่บัญชี B : 50.5\n",
      "ยอดเงินคงเหลือในบัญชี : {'A': 1799.5, 'B': 200.5}\n",
      "ถอนเงินจากบัญชี A:  500.5\n",
      "โอนเงินไปที่บัญชี B : 500.5\n",
      "ยอดเงินคงเหลือในบัญชี : {'A': 1299.0, 'B': 701.0}\n"
     ]
    }
   ],
   "source": [
    "# data\n",
    "account = {\"A\":5000,\"B\":0}\n",
    "\n",
    "def getBalance():\n",
    "    print(\"ยอดเงินคงเหลือในบัญชี :\",account)\n",
    "    \n",
    "def deposit(money):\n",
    "    if money <= 0:\n",
    "        raise Exception (\"ค่าฝากเงินต้องเป็นบวกเท่านั้น\")\n",
    "    print(\"ฝากเงินเข้าบัญชี A :\",money)\n",
    "    account[\"A\"] += money\n",
    "\n",
    "def withdraw(money):\n",
    "    if money <= 0:\n",
    "        raise Exception (\"ค่าถอนเงินต้องเป็นค่าบวกเท่านั้น\")\n",
    "    if money > account[\"A\"]:\n",
    "        raise Exception (\"ยอดเงินใบบัญชีไม่เพียงพอ\")\n",
    "    print(\"ถอนเงินจากบัญชี A: \",money)\n",
    "    account[\"A\"] -= money\n",
    "    \n",
    "def transfer(money):\n",
    "    if not type(money) is int and not type(money) is float:\n",
    "        raise Exception(\"ต้องป้อนค่าเป็นตัวเลขเท่านั้น\")\n",
    "    if money <= 0:\n",
    "        raise Exception (\"ค่าถอนเงินต้องเป็นค่าบวกเท่านั้น\")\n",
    "    if money > account[\"A\"]:\n",
    "        raise Exception (\"ยอดเงินใบบัญชีไม่เพียงพอ\")\n",
    "    print(\"ถอนเงินจากบัญชี A: \",money)\n",
    "    print(\"โอนเงินไปที่บัญชี B :\",money)\n",
    "    account[\"B\"] += money\n",
    "    account[\"A\"] -= money\n",
    "    \n",
    "try:\n",
    "    getBalance()\n",
    "    deposit(3000)\n",
    "    getBalance()\n",
    "    \n",
    "    withdraw(6000)\n",
    "    getBalance()\n",
    "    \n",
    "    transfer(150)\n",
    "    getBalance()\n",
    "\n",
    "    # transfer(\"aa\")\n",
    "    # getBalance()\n",
    "    \n",
    "    transfer(50.50)\n",
    "    getBalance()\n",
    "    \n",
    "    transfer(500.50)\n",
    "    getBalance()\n",
    "except Exception as error:\n",
    "    print(error)\n"
   ]
  }
 ],
 "metadata": {
  "kernelspec": {
   "display_name": "Python 3",
   "language": "python",
   "name": "python3"
  },
  "language_info": {
   "codemirror_mode": {
    "name": "ipython",
    "version": 3
   },
   "file_extension": ".py",
   "mimetype": "text/x-python",
   "name": "python",
   "nbconvert_exporter": "python",
   "pygments_lexer": "ipython3",
   "version": "3.9.13"
  },
  "orig_nbformat": 4
 },
 "nbformat": 4,
 "nbformat_minor": 2
}
