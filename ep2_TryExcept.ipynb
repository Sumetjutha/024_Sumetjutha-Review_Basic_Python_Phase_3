{
 "cells": [
  {
   "cell_type": "code",
   "execution_count": 1,
   "metadata": {},
   "outputs": [
    {
     "data": {
      "text/plain": [
       "'\\n    try: \\n        คำสั่งรันโปรแกรมปกติ\\n    except:\\n        คำสั่งที่ทำงานตอนโปรแกรมมีข้อผิดพลาด\\n'"
      ]
     },
     "execution_count": 1,
     "metadata": {},
     "output_type": "execute_result"
    }
   ],
   "source": [
    "\"\"\"\n",
    "    try: \n",
    "        คำสั่งรันโปรแกรมปกติ\n",
    "    except:\n",
    "        คำสั่งที่ทำงานตอนโปรแกรมมีข้อผิดพลาด\n",
    "\"\"\""
   ]
  },
  {
   "cell_type": "code",
   "execution_count": 3,
   "metadata": {},
   "outputs": [
    {
     "name": "stdout",
     "output_type": "stream",
     "text": [
      "โปรแกรมมีข้อผิดพลาด\n"
     ]
    }
   ],
   "source": [
    "try:\n",
    "    number1 = int(input(\"ป้อนตัวเลข 1 : \"))\n",
    "    number2 = int(input(\"ป้อนตัวเลข 2 : \"))\n",
    "    result = number1 / number2\n",
    "    print(result)\n",
    "except:\n",
    "    print(\"โปรแกรมมีข้อผิดพลาด\")"
   ]
  }
 ],
 "metadata": {
  "kernelspec": {
   "display_name": "Python 3",
   "language": "python",
   "name": "python3"
  },
  "language_info": {
   "codemirror_mode": {
    "name": "ipython",
    "version": 3
   },
   "file_extension": ".py",
   "mimetype": "text/x-python",
   "name": "python",
   "nbconvert_exporter": "python",
   "pygments_lexer": "ipython3",
   "version": "3.9.13"
  },
  "orig_nbformat": 4
 },
 "nbformat": 4,
 "nbformat_minor": 2
}
