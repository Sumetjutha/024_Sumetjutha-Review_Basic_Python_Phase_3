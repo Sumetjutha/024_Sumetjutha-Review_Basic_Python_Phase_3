{
 "cells": [
  {
   "cell_type": "code",
   "execution_count": 4,
   "metadata": {},
   "outputs": [
    {
     "name": "stdout",
     "output_type": "stream",
     "text": [
      "2.0\n",
      "ไม่สามารถป้อนค่าติดลบได้นะครับ\n"
     ]
    }
   ],
   "source": [
    "while True:\n",
    "    try:\n",
    "        number1 = int(input(\"ป้อนตัวเลข 1 : \"))\n",
    "        number2 = int(input(\"ป้อนตัวเลข 2 : \"))\n",
    "        if number1 == 0 and number2 == 0:\n",
    "            break\n",
    "        if number1 < 0 or number2 < 0:\n",
    "            raise Exception(\"ไม่สามารถป้อนค่าติดลบได้นะครับ\")\n",
    "        result = number1 / number2\n",
    "        print(result)\n",
    "    except Exception as error:\n",
    "        print(error)"
   ]
  },
  {
   "cell_type": "code",
   "execution_count": 7,
   "metadata": {},
   "outputs": [
    {
     "name": "stdout",
     "output_type": "stream",
     "text": [
      "1.6666666666666667\n",
      "มีผู้ใช้ชื่อนี้ในระบบแล้วนะครับ\n",
      "มีผู้ใช้ชื่อนี้ในระบบแล้วนะครับ\n"
     ]
    }
   ],
   "source": [
    "while True:\n",
    "    try:\n",
    "        name = input(\"ป้อนชื่อผู้ใช้โปรแกรม : \")\n",
    "        number1 = int(input(\"ป้อนตัวเลข 1 : \"))\n",
    "        number2 = int(input(\"ป้อนตัวเลข 2 : \"))\n",
    "        if number1 == 0 and number2 == 0:\n",
    "            break\n",
    "        if number1 < 0 or number2 < 0:\n",
    "            raise Exception(\"ไม่สามารถป้อนค่าติดลบได้นะครับ\")\n",
    "        if name == \"John Tik\":\n",
    "            raise Exception(\"มีผู้ใช้ชื่อนี้ในระบบแล้วนะครับ\")\n",
    "        result = number1 / number2\n",
    "        print(result)\n",
    "    except Exception as error:\n",
    "        print(error)"
   ]
  }
 ],
 "metadata": {
  "kernelspec": {
   "display_name": "Python 3",
   "language": "python",
   "name": "python3"
  },
  "language_info": {
   "codemirror_mode": {
    "name": "ipython",
    "version": 3
   },
   "file_extension": ".py",
   "mimetype": "text/x-python",
   "name": "python",
   "nbconvert_exporter": "python",
   "pygments_lexer": "ipython3",
   "version": "3.9.13"
  },
  "orig_nbformat": 4
 },
 "nbformat": 4,
 "nbformat_minor": 2
}
