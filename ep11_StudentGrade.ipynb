{
 "cells": [
  {
   "cell_type": "code",
   "execution_count": 4,
   "metadata": {},
   "outputs": [
    {
     "name": "stdout",
     "output_type": "stream",
     "text": [
      "สร้างไฟล์เรียบร้อย\n"
     ]
    }
   ],
   "source": [
    "try:\n",
    "    fw = open(\"Score.txt\",\"w\",encoding=\"utf-8\")\n",
    "    print(\"สร้างไฟล์เรียบร้อย\")\n",
    "    while True:\n",
    "        studentid = input(\"ป้อนรหัสนักเรียน: \")\n",
    "        if studentid == \"exit\":\n",
    "            break\n",
    "        score = input(\"ป้อนคะแนนสอบ: \")\n",
    "        fw.writelines(studentid+\"\\t\"+score+\"\\n\")\n",
    "    fw.close()  \n",
    "except Exception as error:\n",
    "    print(error)"
   ]
  },
  {
   "cell_type": "code",
   "execution_count": 6,
   "metadata": {},
   "outputs": [
    {
     "name": "stdout",
     "output_type": "stream",
     "text": [
      "สร้างไฟล์เรียบร้อย\n"
     ]
    }
   ],
   "source": [
    "# เปลี่ยนเป็น a เพื่อให้มัน append จากข้างบน ไม่ให้บรรจุข้อมูลไปทับไฟล์กัน\n",
    "try:\n",
    "    fw = open(\"Score.txt\",\"a\",encoding=\"utf-8\")\n",
    "    print(\"สร้างไฟล์เรียบร้อย\")\n",
    "    while True:\n",
    "        studentid = input(\"ป้อนรหัสนักเรียน: \")\n",
    "        if studentid == \"exit\":\n",
    "            break\n",
    "        score = input(\"ป้อนคะแนนสอบ: \")\n",
    "        fw.writelines(studentid+\"\\t\"+score+\"\\n\")\n",
    "    fw.close()  \n",
    "except Exception as error:\n",
    "    print(error)"
   ]
  },
  {
   "cell_type": "code",
   "execution_count": 25,
   "metadata": {},
   "outputs": [
    {
     "name": "stdout",
     "output_type": "stream",
     "text": [
      "รหัส =  s01 คะแนน =  50 เกรด =  C\n",
      "รหัส =  s02 คะแนน =  70 เกรด =  B\n",
      "รหัส =  s03 คะแนน =  65 เกรด =  C\n",
      "รหัส =  s04 คะแนน =  80 เกรด =  A\n",
      "รหัส =  s05 คะแนน =  40 เกรด =  F\n",
      "รหัส =  s06 คะแนน =  100 เกรด =  A\n"
     ]
    }
   ],
   "source": [
    "try:\n",
    "    # fw = open(\"Score.txt\",\"a\",encoding=\"utf-8\")\n",
    "    # print(\"สร้างไฟล์เรียบร้อย\")\n",
    "    # while True:\n",
    "    #     studentid = input(\"ป้อนรหัสนักเรียน: \")\n",
    "    #     if studentid == \"exit\":\n",
    "    #         break\n",
    "    #     score = input(\"ป้อนคะแนนสอบ: \")\n",
    "    #     fw.writelines(studentid+\"\\t\"+score+\"\\n\")\n",
    "    fr = open(\"Score.txt\",\"r\",encoding=\"utf-8\")\n",
    "    fw = open(\"grade.txt\",\"w\",encoding=\"utf-8\")\n",
    "    grade=None\n",
    "    for line in fr.readlines():\n",
    "        # print(line)\n",
    "        # print(type(line))\n",
    "        score = line[-4:].strip() #s01 50 คะแนนนักเรีน\n",
    "        studentid = line[:-4].strip() #รหัสนักเรียน\n",
    "        # print(score)\n",
    "        # print(studentid)\n",
    "        # print(\"รหัส = \",studentid,\"คะแนน = \",score)\n",
    "        score = int(score)\n",
    "        if score >= 80:\n",
    "            grade=\"A\"\n",
    "        elif score >=70 and score < 80:\n",
    "            grade=\"B\"\n",
    "        elif score >= 50 and score <= 69:\n",
    "            grade=\"C\"\n",
    "        else:\n",
    "            grade=\"F\"\n",
    "        print(\"รหัส = \", studentid, \"คะแนน = \",score, \"เกรด = \", grade)\n",
    "        fw.writelines(studentid+\"\\t\"+str(score)+\"\\t\"+grade+\"\\n\")\n",
    "    fw.close()\n",
    "    fr.close()\n",
    "except Exception as error:\n",
    "    print(error)"
   ]
  }
 ],
 "metadata": {
  "kernelspec": {
   "display_name": "Python 3",
   "language": "python",
   "name": "python3"
  },
  "language_info": {
   "codemirror_mode": {
    "name": "ipython",
    "version": 3
   },
   "file_extension": ".py",
   "mimetype": "text/x-python",
   "name": "python",
   "nbconvert_exporter": "python",
   "pygments_lexer": "ipython3",
   "version": "3.9.13"
  },
  "orig_nbformat": 4
 },
 "nbformat": 4,
 "nbformat_minor": 2
}
