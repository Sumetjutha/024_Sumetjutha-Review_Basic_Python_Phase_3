{
 "cells": [
  {
   "cell_type": "code",
   "execution_count": 5,
   "metadata": {},
   "outputs": [
    {
     "name": "stdout",
     "output_type": "stream",
     "text": [
      "5.0\n",
      "โอนเงิน\n",
      "โอนเงินสำเร็จ\n"
     ]
    }
   ],
   "source": [
    "# ValueError => ค่าผิดพลาด\n",
    "# zeroDivisionError\n",
    "try:\n",
    "    number1 = int(input(\"ป้อนตัวเลข 1 : \"))\n",
    "    number2 = int(input(\"ป้อนตัวเลข 2 : \"))\n",
    "    result = number1 / number2\n",
    "    print(result)\n",
    "    print(\"โอนเงิน\")\n",
    "except Exception as error:\n",
    "    print(error)\n",
    "else :\n",
    "    print(\"โอนเงินสำเร็จ\")"
   ]
  },
  {
   "cell_type": "code",
   "execution_count": 6,
   "metadata": {},
   "outputs": [
    {
     "name": "stdout",
     "output_type": "stream",
     "text": [
      "invalid literal for int() with base 10: 'we'\n",
      "ทำงานต่อไป...\n"
     ]
    }
   ],
   "source": [
    "# ValueError => ค่าผิดพลาด\n",
    "# zeroDivisionError\n",
    "try:\n",
    "    number1 = int(input(\"ป้อนตัวเลข 1 : \"))\n",
    "    number2 = int(input(\"ป้อนตัวเลข 2 : \"))\n",
    "    result = number1 / number2\n",
    "    print(result)\n",
    "    print(\"โอนเงิน\")\n",
    "except Exception as error:\n",
    "    print(error)\n",
    "finally :\n",
    "    print(\"ทำงานต่อไป...\")"
   ]
  }
 ],
 "metadata": {
  "kernelspec": {
   "display_name": "Python 3",
   "language": "python",
   "name": "python3"
  },
  "language_info": {
   "codemirror_mode": {
    "name": "ipython",
    "version": 3
   },
   "file_extension": ".py",
   "mimetype": "text/x-python",
   "name": "python",
   "nbconvert_exporter": "python",
   "pygments_lexer": "ipython3",
   "version": "3.9.13"
  },
  "orig_nbformat": 4
 },
 "nbformat": 4,
 "nbformat_minor": 2
}
