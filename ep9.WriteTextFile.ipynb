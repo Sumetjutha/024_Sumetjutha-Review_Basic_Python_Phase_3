{
 "cells": [
  {
   "cell_type": "code",
   "execution_count": 3,
   "metadata": {},
   "outputs": [],
   "source": [
    "# writing files ข้อมูลจะถูกทับถ้าใช้ w ถ้าใช้ a คือ append\n",
    "try:\n",
    "    filewriter = open(\"score.txt\",\"w\",encoding=\"utf-8\")\n",
    "    filewriter.write(\"Hello World\\n\")\n",
    "    filewriter.writelines(\"สวัสดีชาวโลก\")\n",
    "    filewriter.close()\n",
    "except FileNotFoundError:\n",
    "    print(\"หาไฟล์ไม่เจอจ้า\")"
   ]
  },
  {
   "cell_type": "code",
   "execution_count": 4,
   "metadata": {},
   "outputs": [
    {
     "name": "stdout",
     "output_type": "stream",
     "text": [
      "Hello World\n",
      "สวัสดีชาวโลก\n"
     ]
    }
   ],
   "source": [
    "# reading files\n",
    "try:\n",
    "    filereader = open(\"score.txt\",\"r\",encoding=\"utf-8\")\n",
    "    print(filereader.read())\n",
    "    filereader.close()\n",
    "except FileNotFoundError:\n",
    "    print(\"หาไฟล์ไม่เจอจ้า\")"
   ]
  },
  {
   "cell_type": "code",
   "execution_count": 5,
   "metadata": {},
   "outputs": [
    {
     "name": "stdout",
     "output_type": "stream",
     "text": [
      "Hello World\n",
      "\n",
      "สวัสดีชาวโลก\n"
     ]
    }
   ],
   "source": [
    "# writing files\n",
    "try:\n",
    "    filereader = open(\"score.txt\",\"r\",encoding=\"utf-8\")\n",
    "    line = filereader.readlines()\n",
    "    for x in line:\n",
    "        print(x)\n",
    "    filereader.close()\n",
    "except FileNotFoundError:\n",
    "    print(\"หาไฟล์ไม่เจอจ้า\")"
   ]
  },
  {
   "cell_type": "code",
   "execution_count": null,
   "metadata": {},
   "outputs": [],
   "source": [
    "# writing files\n",
    "# try:\n",
    "#     filereader = open(\"score.txt\",\"r\",encoding=\"utf-8\")\n",
    "#     line = filereader.readlines()\n",
    "#     for x in line:\n",
    "#         print(\"=>\",x)\n",
    "#     filewriter = open(\"score.txt\",\"w\",encoding=\"utf-8\")\n",
    "#     filewriter.writelines(\"สวัสดีรัฐบาลใหม่\")\n",
    "#     filereader.close()\n",
    "#     filewriter.close()\n",
    "# except FileNotFoundError:\n",
    "#     print(\"หาไฟล์ไม่เจอจ้า\")"
   ]
  },
  {
   "cell_type": "code",
   "execution_count": 6,
   "metadata": {},
   "outputs": [],
   "source": [
    "# writing files ต้องการต่อข้อความลงไปต่อท้าย\n",
    "try:\n",
    "    filereader = open(\"score.txt\",\"r\",encoding=\"utf-8\")\n",
    "\n",
    "    filewriter = open(\"score.txt\",\"a\",encoding=\"utf-8\")\n",
    "    filewriter.writelines(\"\\nสวัสดีรัฐบาลใหม่\")\n",
    "        \n",
    "    filereader.close()\n",
    "    filewriter.close()\n",
    "except FileNotFoundError:\n",
    "    print(\"หาไฟล์ไม่เจอจ้า\")"
   ]
  },
  {
   "cell_type": "code",
   "execution_count": 8,
   "metadata": {},
   "outputs": [],
   "source": [
    "# writing files\n",
    "try:\n",
    "    filewriter = open(\"score.txt\",\"a\",encoding=\"utf-8\")\n",
    "    for i in range(5):\n",
    "        name = input(\"ป้อนข้อความที่ต้องการ : \")\n",
    "        filewriter.writelines(name+\"\\n\")   \n",
    "    filewriter.close()\n",
    "except FileNotFoundError:\n",
    "    print(\"หาไฟล์ไม่เจอจ้า\")"
   ]
  }
 ],
 "metadata": {
  "kernelspec": {
   "display_name": "Python 3",
   "language": "python",
   "name": "python3"
  },
  "language_info": {
   "codemirror_mode": {
    "name": "ipython",
    "version": 3
   },
   "file_extension": ".py",
   "mimetype": "text/x-python",
   "name": "python",
   "nbconvert_exporter": "python",
   "pygments_lexer": "ipython3",
   "version": "3.9.13"
  },
  "orig_nbformat": 4
 },
 "nbformat": 4,
 "nbformat_minor": 2
}
