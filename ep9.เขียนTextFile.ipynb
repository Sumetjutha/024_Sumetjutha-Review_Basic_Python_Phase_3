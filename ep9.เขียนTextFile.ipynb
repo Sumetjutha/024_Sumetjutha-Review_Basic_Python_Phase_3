{
 "cells": [
  {
   "cell_type": "code",
   "execution_count": 5,
   "metadata": {},
   "outputs": [],
   "source": [
    "try:\n",
    "    filewriter = open(\"score.txt\",\"w\",encoding=\"utf-8\")\n",
    "    filewriter.write(\"Hello World\")\n",
    "except FileNotFoundError:\n",
    "    print(\"หาไฟล์ไม่เจอจ้า\")"
   ]
  }
 ],
 "metadata": {
  "kernelspec": {
   "display_name": "Python 3",
   "language": "python",
   "name": "python3"
  },
  "language_info": {
   "codemirror_mode": {
    "name": "ipython",
    "version": 3
   },
   "file_extension": ".py",
   "mimetype": "text/x-python",
   "name": "python",
   "nbconvert_exporter": "python",
   "pygments_lexer": "ipython3",
   "version": "3.9.13"
  },
  "orig_nbformat": 4
 },
 "nbformat": 4,
 "nbformat_minor": 2
}
